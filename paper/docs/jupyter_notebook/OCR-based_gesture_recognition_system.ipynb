{
 "cells": [
  {
   "cell_type": "markdown",
   "metadata": {},
   "source": [
    "# OCR-based gesture recognition system\n",
    "---"
   ]
  },
  {
   "cell_type": "markdown",
   "metadata": {},
   "source": [
    "# Abstract\n",
    "\n",
    "In the abstract of 50-100 words, the author(s) will specify the purpose of the paper, theoretical background, the research problem that is addressed, the approach taken, the research methodology, main findings and contributions relating the original aspects of the paper."
   ]
  },
  {
   "cell_type": "markdown",
   "metadata": {},
   "source": [
    "## Keywords\n",
    "* Gesture recognition with webcam feed\n",
    "* Optical Character Recognition\n",
    "* Optical Flow\n",
    "* Writing symbols in air\n",
    "* Machine Learning\n",
    "* Without Kinect\n",
    "* OpenCV\n",
    "* Scikit-learn"
   ]
  },
  {
   "cell_type": "markdown",
   "metadata": {},
   "source": [
    "# Introduction\n",
    "\n",
    "10% of the paper length\n",
    "\n",
    "Answer to the question: What is the topic?\n",
    "\n",
    "The Introduction is the statement of the problem that you investigated. After placing your work in a broader context, you should state the specific question(s) to be answered. This section may also include background information about the problem such as a summary of any research that has been done on the problem in the past and how the present experiment will help to clarify or expand the knowledge in this general area.\n",
    "\n",
    "Brief introduction, gesture recognition, ocr, opencv, scikit-learn"
   ]
  },
  {
   "cell_type": "markdown",
   "metadata": {},
   "source": [
    "# Materials and Methods\n",
    "\n",
    "20% of the paper length\n",
    "\n",
    "Answer to the question: How I will answer to the first question?\n",
    "\n",
    "This section explains how and, where relevant, when the experiment was done. The researcher describes the experimental design, the apparatus, methods of gathering data and type of control. If any work was done in a natural habitat, the worker describes the study area, states its location and explains when the work was done. If specimens were collected for study, where and when that material was collected are stated."
   ]
  },
  {
   "cell_type": "markdown",
   "metadata": {},
   "source": [
    "# Results\n",
    "\n",
    "20% of the paper length\n",
    "\n",
    "Answer to the question: What I observed?\n",
    "\n",
    "Only the results are presented. No interpretation of the data or conclusions about what the data might mean is given in this section. Data assembled in tables and/or figures should supplement the text and present the data in an easily understandable form."
   ]
  },
  {
   "cell_type": "markdown",
   "metadata": {},
   "source": [
    "# Discussion\n",
    "\n",
    "40% of the paper length\n",
    "\n",
    "Answer to the question: What is the significance of the results?\n",
    "\n",
    "The researcher interprets the data in terms of any patterns that were observed, any relationships among experimental variables that are important and any correlations between variables that are discernible. The author should include any explanations of how the results differed from those hypothesized, or how the results were either different from or similar to those of any related experiments performed by other researchers."
   ]
  },
  {
   "cell_type": "markdown",
   "metadata": {},
   "source": [
    "# Conclusions\n",
    "\n",
    "10% of the paper length\n",
    "\n",
    "The paper will end with a conclusion paragraph in which the author(s) will specify the original results obtained and their possible applications (if any).\n",
    "\n",
    "Answer to the question : What is the topic?\n",
    "\n",
    "This section simply states what the researcher thinks the data mean, and, as such, should relate directly back to the problem/question stated in the introduction."
   ]
  },
  {
   "cell_type": "markdown",
   "metadata": {},
   "source": [
    "# Acknowledgement\n",
    "\n",
    "A brief acknowledgement section may be included. "
   ]
  },
  {
   "cell_type": "markdown",
   "metadata": {},
   "source": [
    "# References\n",
    "\n",
    "* Paper should have among 15-25 references.\n",
    "\n",
    "* 70% of them issued after 2000.\n",
    "\n",
    "* 50% of references belong to authors that published their papers in ISI journals.\n",
    "\n",
    "* Optionally 2 references from the Inter-Eng archive of papers or Scientific Bulletin (issued during last two years) (see http://inter-eng.upm.ro/2012/proceedings.html http://scientificbulletin.upm.ro/).\n",
    "\n",
    "---\n",
    "\n",
    "## OCR\n",
    "\n",
    "* [A survey on optical character recognition system](https://www.uni-miskolc.hu/~qgenagyd/publication_references/survey_of_ocr.pdf)\n",
    "\n",
    "* [OPTICAL CHARACTER RECOGNITION TECHNIQUE ALGORITHMS.](https://www.uni-miskolc.hu/~qgenagyd/publication_references/OPTICAL_CHARACTER_RECOGNITION_TECHNIQUE.pdf)\n",
    "\n",
    "\n",
    "## Optical-Flow\n",
    "\n",
    "* [An iterative image registration technique with an application to stereo vision](https://www.uni-miskolc.hu/~qgenagyd/publication_references/lucas_kanade-1981.pdf)\n",
    "\n",
    "* [Lucas-kanade in a nutshell](https://www.uni-miskolc.hu/~qgenagyd/publication_references/Lucas-Kanade-in-a-nutshell.pdf)\n",
    "\n",
    "\n",
    "## OpenCV\n",
    "\n",
    "* [Learning OpenCV: Computer vision with the OpenCV library](https://www.uni-miskolc.hu/~qgenagyd/publication_references/OReilly-Learning%20OpenCV.pdf)\n",
    "\n",
    "\n",
    "## Scikit-learn\n",
    "\n",
    "* [Scikit-learn: Machine learning in Python](https://www.uni-miskolc.hu/~qgenagyd/publication_references/Scikit-learn-Machine-Learning-in-Python.pdf)\n",
    "\n",
    "* [Hands-On Machine Learning with Scikit-Learn, Keras, and TensorFlow: Concepts, Tools, and Techniques to Build Intelligent Systems](https://www.uni-miskolc.hu/~qgenagyd/publication_references/Hand-on-ML.pdf)\n",
    "\n",
    "---\n",
    "\n",
    "# Related Works\n",
    "\n",
    "## Gesture recognition with the help of Kinect\n",
    "\n",
    "* [Structured dynamic time warping for continuous hand trajectory gesture recognition](https://www.uni-miskolc.hu/~qgenagyd/publication_references/tang2018.pdf)\n",
    "\n",
    "* [Gesture recognition using microsoft kinect](https://www.uni-miskolc.hu/~qgenagyd/publication_references/biswas2011gesture.pdf)\n",
    "\n",
    "* [Visual gesture recognition for text writing in air](https://www.uni-miskolc.hu/~qgenagyd/publication_references/Visual-Gesture-Recognition-for-Text-writing-in-Air.pdf)\n",
    "\n",
    "* [A new writing experience: Finger writing in the air using a kinect sensor](https://www.uni-miskolc.hu/~qgenagyd/publication_references/Finger-Writing-in-the-Air-Using-a-Kinect-Sensor.pdf)\n",
    "\n",
    "\n",
    "## Sensor-based gesture recognition with OCR methods\n",
    "\n",
    "* [A wireless gesture controlled human computer interface](https://www.uni-miskolc.hu/~qgenagyd/publication_references/wireless-gesture.pdf)\n",
    "\n",
    "* [Hand gesture recognition based on accelerometer sensors](https://www.researchgate.net/publication/238521934_Hand_gesture_recognition_based_on_accelerometer_sensors)\n",
    "\n",
    "\n",
    "## Other methods for recognizing gestures\n",
    "\n",
    "* [Recognizing actions by shape-motion prototype trees](https://www.uni-miskolc.hu/~qgenagyd/publication_references/Recognizing%20Actions%20by%20Shape-Motion%20Prototype%20Trees.pdf)\n",
    "\n",
    "* [Recognizing movement using motion histograms](https://www.uni-miskolc.hu/~qgenagyd/publication_references/RecognizingMovementusingMotionHistograms.pdf)\n"
   ]
  },
  {
   "cell_type": "markdown",
   "metadata": {},
   "source": [
    "---\n",
    "# Testing Jupyter"
   ]
  },
  {
   "cell_type": "code",
   "execution_count": 1,
   "metadata": {},
   "outputs": [],
   "source": [
    "%matplotlib inline"
   ]
  },
  {
   "cell_type": "code",
   "execution_count": 2,
   "metadata": {},
   "outputs": [],
   "source": [
    "import cv2\n",
    "import numpy as np\n",
    "import matplotlib.pyplot as plt"
   ]
  },
  {
   "cell_type": "markdown",
   "metadata": {},
   "source": [
    "## Live video annotation\n",
    "\n",
    "Working with video\n",
    "\n",
    "Something about OpenCV"
   ]
  },
  {
   "cell_type": "code",
   "execution_count": 3,
   "metadata": {},
   "outputs": [
    {
     "data": {
      "image/png": "[encoded data removed]",
      "text/plain": [
       "<Figure size 432x288 with 1 Axes>"
      ]
     },
     "metadata": {
      "needs_background": "light"
     },
     "output_type": "display_data"
    }
   ],
   "source": [
    "\"\"\"\n",
    "Reading a frame from webcam feed, then showing it in matplot\n",
    "\"\"\"\n",
    "capture_device = cv2.VideoCapture(0)\n",
    "ret, frame = capture_device.read()\n",
    "\n",
    "# OpenCV uses BGR color sets, while matplotlib uses RGB\n",
    "frame_rgb = cv2.cvtColor(frame, cv2.COLOR_BGR2RGB)\n",
    "\n",
    "imgplot = plt.imshow(frame_rgb)\n",
    "\n",
    "capture_device.release()"
   ]
  },
  {
   "cell_type": "markdown",
   "metadata": {},
   "source": [
    "## Training model"
   ]
  },
  {
   "cell_type": "code",
   "execution_count": 4,
   "metadata": {},
   "outputs": [],
   "source": [
    "import os\n",
    "\n",
    "from sklearn.ensemble import RandomForestClassifier\n",
    "from sklearn.model_selection import cross_val_score\n",
    "from sklearn.model_selection import cross_val_predict\n",
    "from sklearn.model_selection import train_test_split\n",
    "from sklearn.metrics import confusion_matrix"
   ]
  },
  {
   "cell_type": "code",
   "execution_count": 5,
   "metadata": {},
   "outputs": [],
   "source": [
    "class Model(object):\n",
    "    \"\"\"\n",
    "    Class for Random Forest Classifier model\n",
    "    \"\"\"\n",
    "    def build_ocr_dataset(self, feature_lenght,\n",
    "                          source_path='./training_datas/ocr_datas/'):\n",
    "        \"\"\"\n",
    "        Building the dataset from files\n",
    "        :param source_path: The path of the data's folder\n",
    "        \"\"\"\n",
    "        self._X = np.empty((0, feature_lenght), dtype=np.uint8)\n",
    "        self._y = np.empty((0, ), dtype=np.uint8)\n",
    "        self._labels = os.listdir(source_path)\n",
    "\n",
    "        for label in self._labels:\n",
    "            for file in os.listdir(source_path+label):\n",
    "                img = cv2.imread(source_path+label+\"/\"+file, 0)\n",
    "\n",
    "                feature_vector = np.array(img).flatten()\n",
    "\n",
    "                self._X = np.append(self._X, [feature_vector], axis=0)\n",
    "                self._y = np.append(self._y, [label], axis=0)\n",
    "\n",
    "    def shuffle_dataset_order(self):\n",
    "        \"\"\"\n",
    "        Randomize dataset order\n",
    "        \"\"\"\n",
    "        shuffle_index = np.random.permutation(len(self._y))\n",
    "        self._X, self._y = self._X[shuffle_index], self._y[shuffle_index]\n",
    "\n",
    "    def split_dataset(self, test_size, seed):\n",
    "        \"\"\"\n",
    "        Splitting dataset to train and test partitions\n",
    "        :param test_size: Size of the test partition in percentage\n",
    "        :param seed: random_state value for splitting\n",
    "        \"\"\"\n",
    "        self._X_train, self._X_test, self._Y_train, self._Y_test = \\\n",
    "            train_test_split(self._X, self._y,\n",
    "                             test_size=test_size,\n",
    "                             random_state=seed)\n",
    "        print(\"Training dataset size:\", len(self._Y_train))\n",
    "        print(\"Testing dataset size:\", len(self._Y_test))\n",
    "\n",
    "    def train_classifier(self, clf_args):\n",
    "        \"\"\"\n",
    "        Fitting the training data to the classifier\n",
    "        :param clf_args: Args for the 42 as a dictionary\n",
    "        \"\"\"\n",
    "        self._clf = RandomForestClassifier(**clf_args)\n",
    "        self._clf.fit(self._X_train, self._Y_train)\n",
    "\n",
    "    @property\n",
    "    def X_train(self):\n",
    "        return self._X_train\n",
    "\n",
    "    @property\n",
    "    def Y_train(self):\n",
    "        return self._Y_train\n",
    "\n",
    "    @property\n",
    "    def X_test(self):\n",
    "        return self._X_test\n",
    "\n",
    "    @property\n",
    "    def Y_test(self):\n",
    "        return self._Y_test\n",
    "\n",
    "    @property\n",
    "    def clf(self):\n",
    "        return self._clf"
   ]
  },
  {
   "cell_type": "markdown",
   "metadata": {},
   "source": [
    "## Performance measures"
   ]
  },
  {
   "cell_type": "code",
   "execution_count": 6,
   "metadata": {},
   "outputs": [],
   "source": [
    "class Performance(object):\n",
    "\n",
    "    @staticmethod\n",
    "    def cross_val_accuracy(clf, X, Y, folding=3):\n",
    "        \"\"\"\n",
    "        Calculating Cross-Validation accuracy scores\n",
    "        \"\"\"\n",
    "        scores = cross_val_score(clf,\n",
    "                                 X, Y,\n",
    "                                 cv=3, scoring=\"accuracy\")\n",
    "        return scores\n",
    "\n",
    "    @staticmethod\n",
    "    def calc_confusion_matrix(clf, X, Y, folding=3):\n",
    "        \"\"\"\n",
    "        Calculating confusion matrix\n",
    "        \"\"\"\n",
    "        y_pred = cross_val_predict(clf, X, Y, cv=3)\n",
    "        confusion = confusion_matrix(Y, y_pred)\n",
    "        return confusion\n",
    "\n",
    "    @staticmethod\n",
    "    def normalize_confusion_matrix(conf_mx):\n",
    "        \"\"\"\n",
    "        Normalising confusion matrix\n",
    "        \"\"\"\n",
    "        row_sums = conf_mx.sum(axis=1, keepdims=True)\n",
    "        norm_conf_mx = conf_mx / row_sums\n",
    "        np.fill_diagonal(norm_conf_mx, 0)\n",
    "        return norm_conf_mx\n",
    "\n",
    "    @staticmethod\n",
    "    def plot_confusion_matrix(confusion_matrix):\n",
    "        \"\"\"\n",
    "        Plotting confusion matrix\n",
    "        \"\"\"\n",
    "        plt.matshow(confusion_matrix, cmap=plt.cm.gray)\n",
    "        plt.show()"
   ]
  },
  {
   "cell_type": "code",
   "execution_count": 7,
   "metadata": {},
   "outputs": [
    {
     "name": "stdout",
     "output_type": "stream",
     "text": [
      "Training dataset size: 243\n",
      "Testing dataset size: 105\n",
      "\n",
      "----Performance Measures----\n",
      "Cross-validation accuracy scores on training data:\n",
      " [0.98765432 0.98765432 0.92592593] \n",
      "\n",
      "Cross-validation accuracy scores on test data:\n",
      " [0.91428571 0.8        0.88571429] \n",
      "\n",
      "Confusion matrix for training data:\n",
      " [[83  0  0]\n",
      " [ 1 77  2]\n",
      " [ 4  1 75]] \n",
      "\n"
     ]
    },
    {
     "data": {
      "image/png": "[encoded data removed]",
      "text/plain": [
       "<Figure size 288x288 with 1 Axes>"
      ]
     },
     "metadata": {
      "needs_background": "light"
     },
     "output_type": "display_data"
    },
    {
     "name": "stdout",
     "output_type": "stream",
     "text": [
      "Normalized confusion matrix for training data:\n",
      " [[0.     0.     0.    ]\n",
      " [0.0125 0.     0.025 ]\n",
      " [0.05   0.0125 0.    ]] \n",
      "\n"
     ]
    },
    {
     "data": {
      "image/png": "[encoded data removed]",
      "text/plain": [
       "<Figure size 288x288 with 1 Axes>"
      ]
     },
     "metadata": {
      "needs_background": "light"
     },
     "output_type": "display_data"
    },
    {
     "name": "stdout",
     "output_type": "stream",
     "text": [
      "Confusion matrix for test data:\n",
      " [[28  0  4]\n",
      " [ 3 33  0]\n",
      " [ 2  5 30]] \n",
      "\n"
     ]
    },
    {
     "data": {
      "image/png": "[encoded data removed]",
      "text/plain": [
       "<Figure size 288x288 with 1 Axes>"
      ]
     },
     "metadata": {
      "needs_background": "light"
     },
     "output_type": "display_data"
    },
    {
     "name": "stdout",
     "output_type": "stream",
     "text": [
      "Normalized confusion matrix for test data:\n",
      " [[0.         0.         0.125     ]\n",
      " [0.08333333 0.         0.        ]\n",
      " [0.05405405 0.13513514 0.        ]] \n",
      "\n"
     ]
    },
    {
     "data": {
      "image/png": "[encoded data removed]",
      "text/plain": [
       "<Figure size 288x288 with 1 Axes>"
      ]
     },
     "metadata": {
      "needs_background": "light"
     },
     "output_type": "display_data"
    }
   ],
   "source": [
    "classifier_args = dict(random_state=42)\n",
    "\n",
    "ocr = Model()\n",
    "ocr.build_ocr_dataset(165)\n",
    "ocr.shuffle_dataset_order()\n",
    "ocr.split_dataset(0.3, 7)\n",
    "ocr.train_classifier(classifier_args)\n",
    "\n",
    "perf = Performance()\n",
    "train_score = perf.cross_val_accuracy(ocr.clf, ocr.X_train, ocr.Y_train)\n",
    "test_score = perf.cross_val_accuracy(ocr.clf, ocr.X_test, ocr.Y_test)\n",
    "\n",
    "train_conf_mx = perf.calc_confusion_matrix(ocr.clf,\n",
    "                                           ocr.X_train, ocr.Y_train)\n",
    "test_conf_mx = perf.calc_confusion_matrix(ocr.clf,\n",
    "                                          ocr.X_test, ocr.Y_test)\n",
    "\n",
    "normalized_train_conf_mx = perf.normalize_confusion_matrix(train_conf_mx)\n",
    "normalized_test_conf_mx = perf.normalize_confusion_matrix(test_conf_mx)\n",
    "\n",
    "print(\"\\n----Performance Measures----\")\n",
    "print(\"Cross-validation accuracy scores on training data:\\n\", train_score,\n",
    "      \"\\n\")\n",
    "print(\"Cross-validation accuracy scores on test data:\\n\", test_score,\n",
    "      \"\\n\")\n",
    "\n",
    "print(\"Confusion matrix for training data:\\n\", train_conf_mx, \"\\n\")\n",
    "perf.plot_confusion_matrix(train_conf_mx)\n",
    "print(\"Normalized confusion matrix for training data:\\n\",\n",
    "      normalized_train_conf_mx,\n",
    "      \"\\n\")\n",
    "perf.plot_confusion_matrix(normalized_train_conf_mx)\n",
    "\n",
    "print(\"Confusion matrix for test data:\\n\", test_conf_mx, \"\\n\")\n",
    "perf.plot_confusion_matrix(test_conf_mx)\n",
    "print(\"Normalized confusion matrix for test data:\\n\",\n",
    "      normalized_test_conf_mx,\n",
    "      \"\\n\")\n",
    "perf.plot_confusion_matrix(normalized_test_conf_mx)\n"
   ]
  },
  {
   "cell_type": "markdown",
   "metadata": {},
   "source": [
    "## Validating selected gestures"
   ]
  },
  {
   "cell_type": "code",
   "execution_count": 8,
   "metadata": {},
   "outputs": [
    {
     "name": "stdout",
     "output_type": "stream",
     "text": [
      "Name: usr_gest_03\n"
     ]
    },
    {
     "data": {
      "image/png": "[encoded data removed]",
      "text/plain": [
       "<Figure size 432x288 with 1 Axes>"
      ]
     },
     "metadata": {
      "needs_background": "light"
     },
     "output_type": "display_data"
    },
    {
     "name": "stdout",
     "output_type": "stream",
     "text": [
      "Number of black pixels: 44\n",
      "Intensity of the rows: [0 0 4 7 7 6 6 6 5 3 0]\n",
      "Intensity of the cols: [0 0 0 0 3 5 6 6 7 5 3 4 5 0 0]\n",
      "Index of center of mass: (8, 5)\n",
      "-------------------------\n",
      "\n",
      "Name: usr_gest_01\n"
     ]
    },
    {
     "data": {
      "image/png": "[encoded data removed]",
      "text/plain": [
       "<Figure size 432x288 with 1 Axes>"
      ]
     },
     "metadata": {
      "needs_background": "light"
     },
     "output_type": "display_data"
    },
    {
     "name": "stdout",
     "output_type": "stream",
     "text": [
      "Number of black pixels: 36\n",
      "Intensity of the rows: [0 1 4 9 8 2 3 3 3 3 0]\n",
      "Intensity of the cols: [0 0 8 7 7 5 2 2 2 2 1 0 0 0 0]\n",
      "Index of center of mass: (4, 5)\n",
      "-------------------------\n",
      "\n",
      "Name: usr_gest_02\n"
     ]
    },
    {
     "data": {
      "image/png": "[encoded data removed]",
      "text/plain": [
       "<Figure size 432x288 with 1 Axes>"
      ]
     },
     "metadata": {
      "needs_background": "light"
     },
     "output_type": "display_data"
    },
    {
     "name": "stdout",
     "output_type": "stream",
     "text": [
      "Number of black pixels: 28\n",
      "Intensity of the rows: [ 0  1  1  1  1  2  2  1  6 10  3]\n",
      "Intensity of the cols: [ 0  0  0  1  2  2  2  2  2  1  1  4 10  1  0]\n",
      "Index of center of mass: (9, 7)\n",
      "-------------------------\n",
      "\n",
      "Comparing gestures and making scores:\n",
      "\n",
      "usr_gest_03\n",
      "\n",
      "Compared with usr_gest_01: 109 same pixels\n",
      "Compared with usr_gest_02: 115 same pixels\n",
      "\n",
      "\n",
      "Number of black pixels: 44\n",
      "AVG number of black pixels in others: 32.0\n",
      "\n",
      "Center of mass: (8, 5)\n",
      "AVG Center of mass in others: [6.5 6. ]\n",
      "\n",
      "---------\n",
      "\n",
      "usr_gest_01\n",
      "\n",
      "Compared with usr_gest_03: 109 same pixels\n",
      "Compared with usr_gest_02: 109 same pixels\n",
      "\n",
      "\n",
      "Number of black pixels: 36\n",
      "AVG number of black pixels in others: 36.0\n",
      "\n",
      "Center of mass: (4, 5)\n",
      "AVG Center of mass in others: [8.5 6. ]\n",
      "\n",
      "---------\n",
      "\n",
      "usr_gest_02\n",
      "\n",
      "Compared with usr_gest_03: 115 same pixels\n",
      "Compared with usr_gest_01: 109 same pixels\n",
      "\n",
      "\n",
      "Number of black pixels: 28\n",
      "AVG number of black pixels in others: 40.0\n",
      "\n",
      "Center of mass: (9, 7)\n",
      "AVG Center of mass in others: [6. 5.]\n",
      "\n",
      "---------\n",
      "\n"
     ]
    }
   ],
   "source": [
    "class NestedGesture(object):\n",
    "    \"\"\"\n",
    "    Class representation of nested OCR-gestures\n",
    "    \"\"\"\n",
    "    def __init__(self, image, name):\n",
    "        \"\"\"\n",
    "        Initializing with stater gesture image\n",
    "        :param image: The OCR-gesture image\n",
    "        \"\"\"\n",
    "        self._image = image\n",
    "        self._name = name\n",
    "\n",
    "    def update_nested_image(self, image_to_nest):\n",
    "        \"\"\"\n",
    "        Updating the nested image\n",
    "        :param image_to_nest: Ocr-gesture image for nesting\n",
    "        \"\"\"\n",
    "        self._image = np.minimum(self._image, image_to_nest)\n",
    "\n",
    "    def calc_black_pixels(self):\n",
    "        \"\"\"\n",
    "        Counting the black pixels on the nested image\n",
    "        \"\"\"\n",
    "        self._n_black_pix = np.sum(self._image == 0)\n",
    "        print('Number of black pixels:', self._n_black_pix)\n",
    "\n",
    "    def calc_intensity_of_rows_cols(self):\n",
    "        \"\"\"\n",
    "        Counting the black pixels by rows and collumns\n",
    "        \"\"\"\n",
    "        self._rows_intensity_count = np.sum(self._image == 0, axis=1)\n",
    "        self._cols_intensity_count = np.sum(self._image == 0, axis=0)\n",
    "        print(\"Intensity of the rows:\", self._rows_intensity_count)\n",
    "        print(\"Intensity of the cols:\", self._cols_intensity_count)\n",
    "\n",
    "    def calc_center_of_mass(self):\n",
    "        \"\"\"\n",
    "        Calculating the center of the mass (index)\n",
    "        \"\"\"\n",
    "        h, w = self._image.shape\n",
    "        weighted_row_average = np.average(range(1, h+1),\n",
    "                                          weights=self._rows_intensity_count)\n",
    "        weighted_col_average = np.average(range(1, w+1),\n",
    "                                          weights=self._cols_intensity_count)\n",
    "        a = np.uint8(np.around(weighted_col_average)-1)\n",
    "        b = np.uint8(np.around(weighted_row_average)-1)\n",
    "        self._center_of_mass_index = (a, b)\n",
    "        print(\"Index of center of mass:\", self._center_of_mass_index)\n",
    "\n",
    "    @property\n",
    "    def image(self):\n",
    "        return self._image\n",
    "    \n",
    "    @property\n",
    "    def name(self):\n",
    "        return self._name\n",
    "\n",
    "    @property\n",
    "    def n_black_pix(self):\n",
    "        return self._n_black_pix\n",
    "\n",
    "    @property\n",
    "    def rows_intensity_count(self):\n",
    "        return self._rows_intensity_count\n",
    "\n",
    "    @property\n",
    "    def cols_intensity_count(self):\n",
    "        return self._cols_intensity_count\n",
    "\n",
    "    @property\n",
    "    def center_of_mass_index(self):\n",
    "        return self._center_of_mass_index\n",
    "\n",
    "\n",
    "def read_gestures_from_file(source):\n",
    "    \"\"\"\n",
    "    Reading gestures from file and making NestedGesture objects\n",
    "    :param source: The source of the root folder of user-gestures\n",
    "    :return: List of NestedGesture objects\n",
    "    \"\"\"\n",
    "    nested_gesture_list = []\n",
    "    usr_gest_list = os.listdir(source)\n",
    "\n",
    "    for usr_gest in usr_gest_list:\n",
    "        files = os.listdir(source+usr_gest)\n",
    "        im = cv2.imread(source+usr_gest+\"/\"+files[0], 0)\n",
    "        vars()[usr_gest] = NestedGesture(im, usr_gest)\n",
    "\n",
    "        for i in range(len(files)):\n",
    "            im = cv2.imread(source+usr_gest+\"/\"+files[i], 0)\n",
    "            vars()[usr_gest].update_nested_image(im)\n",
    "        nested_gesture_list.append(vars()[usr_gest])\n",
    "    return nested_gesture_list\n",
    "\n",
    "\n",
    "def analize_nested_gestures(nested_gesture_list):\n",
    "    \"\"\"\n",
    "    Analising NestedGestures by differenct aspects\n",
    "    :param nested_gesture_list: List of NestedGesture objects\n",
    "    \"\"\"\n",
    "    for nested_gest in nested_gesture_list:\n",
    "        print(\"Name: \"+nested_gest.name)\n",
    "        plt.imshow(cv2.cvtColor(nested_gest.image, cv2.COLOR_BGR2RGB))\n",
    "        plt.show()\n",
    "        nested_gest.calc_black_pixels()\n",
    "        nested_gest.calc_intensity_of_rows_cols()\n",
    "        nested_gest.calc_center_of_mass()\n",
    "        print(\"-------------------------\\n\")\n",
    "\n",
    "\n",
    "def compare_gestures(nested_gesture_list):\n",
    "\n",
    "    for i in range(len(nested_gesture_list)):\n",
    "        gesture = nested_gesture_list[i]\n",
    "        print(gesture.name+\"\\n\")\n",
    "\n",
    "        other_gestures = np.delete(nested_gesture_list, i, axis=0)\n",
    "\n",
    "        len_other_g = len(other_gestures)\n",
    "\n",
    "        black_pixel_avg = []\n",
    "        center_of_mass_avg = []\n",
    "\n",
    "        for gest in other_gestures:\n",
    "            black_pixel_avg.append(gest.n_black_pix)\n",
    "            center_of_mass_avg.append(gest.center_of_mass_index)\n",
    "\n",
    "            compare = gesture.image == gest.image\n",
    "            compare_sum = np.sum(compare == True)\n",
    "\n",
    "            print(\"Compared with \"+gest.name+\": \"+str(compare_sum)+\" same pixels\")\n",
    "\n",
    "        print(\"\\n\")\n",
    "\n",
    "        black_pixel_avg = np.mean(black_pixel_avg)\n",
    "        center_of_mass_avg = np.mean(center_of_mass_avg, axis=0)\n",
    "\n",
    "        print(\"Number of black pixels: \"+str(gesture.n_black_pix))\n",
    "        print(\"AVG number of black pixels in others: \"+str(black_pixel_avg)+\"\\n\")\n",
    "        print(\"Center of mass: \"+str(gesture.center_of_mass_index))\n",
    "        print(\"AVG Center of mass in others: \"+str(center_of_mass_avg)+\"\\n\")\n",
    "\n",
    "        print(\"---------\\n\")\n",
    "\n",
    "nested_gest_list = read_gestures_from_file(\"./usr_gest/\")\n",
    "analize_nested_gestures(nested_gest_list)\n",
    "print(\"Comparing gestures and making scores:\\n\")\n",
    "compare_gestures(nested_gest_list)"
   ]
  }
 ],
 "metadata": {
  "kernelspec": {
   "display_name": "Python 3",
   "language": "python",
   "name": "python3"
  },
  "language_info": {
   "codemirror_mode": {
    "name": "ipython",
    "version": 3
   },
   "file_extension": ".py",
   "mimetype": "text/x-python",
   "name": "python",
   "nbconvert_exporter": "python",
   "pygments_lexer": "ipython3",
   "version": "3.6.9"
  }
 },
 "nbformat": 4,
 "nbformat_minor": 4
}
