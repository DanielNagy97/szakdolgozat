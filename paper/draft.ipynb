{
 "cells": [
  {
   "cell_type": "markdown",
   "metadata": {},
   "source": [
    "# An Optical Flow-based Symbol Recognition Method"
   ]
  },
  {
   "cell_type": "markdown",
   "metadata": {},
   "source": [
    "<span style=\"color: red;\">TODO: Megnézni más címeket is példának!</span>"
   ]
  },
  {
   "cell_type": "markdown",
   "metadata": {},
   "source": [
    "Journal: http://scientificbulletin.upm.ro/?pag=submit"
   ]
  },
  {
   "cell_type": "markdown",
   "metadata": {},
   "source": [
    "**Keywords**: Human Computer Interaction, Augmented Reality"
   ]
  },
  {
   "cell_type": "markdown",
   "metadata": {},
   "source": [
    "**Abstract**: Symbol recognizer instead of a full OCR."
   ]
  },
  {
   "cell_type": "markdown",
   "metadata": {},
   "source": [
    "## Introduction"
   ]
  },
  {
   "cell_type": "markdown",
   "metadata": {},
   "source": [
    "The research of the proper human-computer interaction is one of the fundamental problems of computer science.\n",
    "The motivation behind them is to find the most natural way of the communication with the help of machines.\n",
    "The increasing number of Augmented Reality and Virtual Reality applications signs the relevance and actuality of the presented topic.\n",
    "\n",
    "The goal of this paper is to provide an alternative method for solving the symbol recognition problem where the input is a video stream.\n",
    "In the considered scenario the user draws various symbols into the air in front of the camera.\n",
    "There is a set of predefined symbols.\n",
    "We have to provide an image processing method and a classification algorithm which can guess the symbol with sufficient accuracy.\n",
    "\n",
    "The proposed symbol recognition method uses motion flow information for estimating the recently drawn symbols.\n",
    "Compared to the classical object tracking methods it has the following advantages and disadvantages.\n",
    "\n",
    "The main benefit of this approach is the shape and texture invariance.\n",
    "Most of the available methods combines shape detection and object tracking techniques [].\n",
    "Therefore, the reliability of the symbol recognition depends on the accuracy of these two different steps.\n",
    "\n",
    "An object detection and a pose estimation method can provide detailed information about the tracked object.\n",
    "In our use case these informations are ignored.\n",
    "It means that, our system is unable to differentiate between a human hand and an arbitrary pointer device on the images.\n",
    "\n",
    "[DTW-s cikk]"
   ]
  },
  {
   "cell_type": "markdown",
   "metadata": {},
   "source": [
    "## Video stream processing method"
   ]
  },
  {
   "cell_type": "markdown",
   "metadata": {},
   "source": [
    "The processing of the video stream is a multistep process.\n",
    "The video stream is the sequence of coloured images.\n",
    "We call these images as frames.\n",
    "The format and the resolution of all frames are the same.\n",
    "The elapsed time between two sequential frames can be considered as a constant value, denoted by $\\Delta t$.\n",
    "Let see the overview of the proposed method in Figure [].\n",
    "We describe the details of the processing steps in the following subsections."
   ]
  },
  {
   "cell_type": "markdown",
   "metadata": {},
   "source": [
    "<span style=\"color: red;\">TODO: Összerakni egy áttekintő ábrát a feldolgozási folyamatról!</span>"
   ]
  },
  {
   "cell_type": "markdown",
   "metadata": {},
   "source": [
    "<img src=\"./docs/images/processing-flow/processing-flow.png\" width=\"80%\">"
   ]
  },
  {
   "cell_type": "markdown",
   "metadata": {},
   "source": [
    "### Image proprocessing"
   ]
  },
  {
   "cell_type": "markdown",
   "metadata": {},
   "source": [
    "We consider only that cases, where the hue of objects on the images do not provide significant additional information in the aspect of symbol recognition.\n",
    "Our experiment suggest that the usage of grayscale images is sufficient.\n",
    "There are different methods for the grayscale convertion.\n",
    "The selection of them does not play key role in the further processing steps.\n",
    "\n",
    "We would like to reduce the effect of light condition changes.\n",
    "Some of the video capturing devices have capability to adapt to them.\n",
    "It helps to improve the image quality in the typical use case, but also means that any local intensity changes affect intensity changes globally.\n",
    "Fortunately, the estimation of motion vectors will eliminate this kind of noise automatically."
   ]
  },
  {
   "cell_type": "markdown",
   "metadata": {},
   "source": [
    "### Motion vector field estimation"
   ]
  },
  {
   "cell_type": "markdown",
   "metadata": {},
   "source": [
    "On sequential frames we can observe that some regions of the image are changing their positions.\n",
    "It does not necessarily match with the real position changes of the objects of the captured scene.\n",
    "Theoretically, it is possible to estimate the motion vector for any point of a frame.\n",
    "Therefore, it results a vector field on the domain of the image.\n",
    "\n",
    "The presented symbol recognition method based on the estimation of these motion vectors.\n",
    "The following paragraphs mention the reasons which makes the estimation task difficult.\n",
    "\n",
    "The *motion* is not a well-defined term in this consideration.\n",
    "It is an intuitive concept without a strict mathematical foundation.\n",
    "\n",
    "The estimation of a motion vector at a point requires the current frame and at least the previous one.\n",
    "On the analogy of interpolation methods, we could take into account more preceding frames.\n",
    "Expectedly, more frames are unable to cause significantly better classification accuracy.\n",
    "\n",
    "The frames are rasterized images.\n",
    "Smaller number of motion vectors is enough.\n",
    "\n",
    "We have to select the tracked parts of the image.\n",
    "The following properties are preferred.\n",
    "* The union of these parts should result the original image.\n",
    "* All parts should have exactly the same shape and size.\n",
    "The segmentation of the image by a squared grid fulfils these requirements.\n",
    "Moreover, it provides a more convenient calculation scheme."
   ]
  },
  {
   "cell_type": "markdown",
   "metadata": {},
   "source": [
    "The OpenCV library contains the implementation of an optical flow method of Lucas-Kanade [].\n",
    "We use an equidistant squared grid on the image.\n",
    "* The grid size is a free parameter of the method.\n",
    "* The window size is $50 \\times 50$.\n",
    "* We have choosed the maximal level of the image pyramid to 2.\n",
    "* The iterative search process termination criteria is $\\varepsilon = 0.03$ and the maximal count of iteration steps is 10.\n",
    "\n",
    "The implementation details of the algorithm and the tuning of proper parametrization is out of the scope of our current research."
   ]
  },
  {
   "cell_type": "markdown",
   "metadata": {},
   "source": [
    "<span style=\"color: red;\">TODO: Készíteni egy ábrát a rácsról!</span>"
   ]
  },
  {
   "cell_type": "markdown",
   "metadata": {},
   "source": [
    "<img src=\"./docs/images/grid/grid.png\" width=\"50%\">"
   ]
  },
  {
   "cell_type": "markdown",
   "metadata": {},
   "source": [
    "<span style=\"color: red;\">TODO: Gyári implementációt említeni!</span>"
   ]
  },
  {
   "cell_type": "markdown",
   "metadata": {},
   "source": [
    "### Heat map calculation"
   ]
  },
  {
   "cell_type": "markdown",
   "metadata": {},
   "source": [
    "The estimated motion vectors describe the drawed symbol in time intervals with $\\Delta t$ lengths.\n",
    "For higher level view we have to aggregate the vector fields.\n",
    "A straightforward method of the aggregation is the usage of matrix which resembles to a heat map.\n",
    "\n",
    "Let consider only the measure of the motions which is available as the lengths of motion vectors.\n",
    "Let denote $l_i \\in \\mathbb{R}$ the length of a motion vector of the $i$-th frame.\n",
    "Let denote $h_i \\in \\mathbb{R}$ the *heat value* on the $i$-th frame.\n",
    "\n",
    "$$\n",
    "l_i, l_{i-1}, l_{i-2}, \\ldots, l_{i-k}\n",
    "$$\n",
    "We can use a $k+1$ sized convolution kernel.\n",
    "$C: \\mathbb{R}^{k+1} \\rightarrow \\mathbb{R}$\n",
    "\n",
    "We would like to find a proper aggregator function $f: \\mathbb{R}^2 \\rightarrow \\mathbb{R}$ as\n",
    "$$\n",
    "h_i = f(h_{i-1}, l_i).\n",
    "$$\n",
    "\n",
    "It requires a time window."
   ]
  },
  {
   "cell_type": "markdown",
   "metadata": {},
   "source": [
    "<span style=\"color: red;\">TODO: Készíteni képet egy hőtérképről!</span>"
   ]
  },
  {
   "cell_type": "markdown",
   "metadata": {},
   "source": [
    "<img src=\"./docs/images/heatmap/heatmap.png\" width=\"50%\">"
   ]
  },
  {
   "cell_type": "markdown",
   "metadata": {},
   "source": [
    "### Temporal filter for Symbol Canvas"
   ]
  },
  {
   "cell_type": "markdown",
   "metadata": {},
   "source": [
    "The length of the drawed symbols can be differ significantly.\n",
    "The following approaches can be applied for solving this issue.\n",
    "\n",
    "* Usage of lower level primitives. (Lines, curves)\n",
    "* Define a temporal filter which is able to detect the begin and end of the symbol drawing process.\n",
    "\n",
    "We prefer to use the latter, because on successful time segment detection the symbol recognition task becomes the classical pattern recognition problem.\n",
    "\n",
    "3 seconds limit ..when the average motion is under a specified limit."
   ]
  },
  {
   "cell_type": "markdown",
   "metadata": {},
   "source": [
    "### Symbol recognizer"
   ]
  },
  {
   "cell_type": "markdown",
   "metadata": {},
   "source": [
    "We define the ideal patterns in the resolution of the grid.\n",
    "These are the reference patterns.\n",
    "We calculate the sum of squared distances of pixel intensities.\n",
    "We select the reference image where this sum is minimal.\n",
    "\n",
    "As an improved solution we could use ANN."
   ]
  },
  {
   "cell_type": "markdown",
   "metadata": {},
   "source": [
    "## Results"
   ]
  },
  {
   "cell_type": "code",
   "execution_count": null,
   "metadata": {},
   "outputs": [],
   "source": []
  },
  {
   "cell_type": "markdown",
   "metadata": {},
   "source": [
    "### Symbol selection"
   ]
  },
  {
   "cell_type": "markdown",
   "metadata": {},
   "source": [
    "In this section we overview the different kind of noises.\n",
    "Light equalization\n",
    "\n",
    "movement noise reduction"
   ]
  },
  {
   "cell_type": "markdown",
   "metadata": {},
   "source": [
    "## Discussion"
   ]
  },
  {
   "cell_type": "code",
   "execution_count": null,
   "metadata": {},
   "outputs": [],
   "source": []
  },
  {
   "cell_type": "markdown",
   "metadata": {},
   "source": [
    "## Conclusions"
   ]
  },
  {
   "cell_type": "code",
   "execution_count": null,
   "metadata": {},
   "outputs": [],
   "source": []
  },
  {
   "cell_type": "markdown",
   "metadata": {},
   "source": [
    "## Acknowledgement"
   ]
  },
  {
   "cell_type": "markdown",
   "metadata": {},
   "source": [
    "<span style=\"color: red;\">TODO: Rakaczki Csabát megkérdezni, hogy kell-e bele ilyesmi!</span>"
   ]
  },
  {
   "cell_type": "markdown",
   "metadata": {},
   "source": [
    "## References"
   ]
  },
  {
   "cell_type": "markdown",
   "metadata": {},
   "source": [
    "20 items"
   ]
  }
 ],
 "metadata": {
  "kernelspec": {
   "display_name": "Python 3",
   "language": "python",
   "name": "python3"
  },
  "language_info": {
   "codemirror_mode": {
    "name": "ipython",
    "version": 3
   },
   "file_extension": ".py",
   "mimetype": "text/x-python",
   "name": "python",
   "nbconvert_exporter": "python",
   "pygments_lexer": "ipython3",
   "version": "3.6.9"
  }
 },
 "nbformat": 4,
 "nbformat_minor": 2
}
