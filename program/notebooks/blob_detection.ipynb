{
 "cells": [
  {
   "cell_type": "markdown",
   "metadata": {},
   "source": [
    "# Blob detection on heat maps"
   ]
  },
  {
   "cell_type": "code",
   "execution_count": null,
   "metadata": {},
   "outputs": [],
   "source": [
    "import sys\n",
    "sys.path.append('..')"
   ]
  },
  {
   "cell_type": "code",
   "execution_count": null,
   "metadata": {},
   "outputs": [],
   "source": [
    "from arpt.frame_buffer import FrameBuffer\n",
    "from arpt.heat_map import HeatMap\n",
    "from arpt import motion_field\n",
    "from arpt.video import Video"
   ]
  },
  {
   "cell_type": "code",
   "execution_count": null,
   "metadata": {},
   "outputs": [],
   "source": [
    "video_path = 'sample_videos/circle_test.mp4'\n",
    "\n",
    "frames = FrameBuffer(buffer_size=60*25)\n",
    "with Video(video_path) as video:\n",
    "    while True:\n",
    "        frame = video.get_next_frame()\n",
    "        if frame is None:\n",
    "            break\n",
    "        frames.push_frame(frame)\n",
    "\n",
    "print(frames)"
   ]
  },
  {
   "cell_type": "code",
   "execution_count": null,
   "metadata": {},
   "outputs": [],
   "source": [
    "from matplotlib import pyplot as plt\n",
    "\n",
    "plt.figure()\n",
    "plt.imshow(frames[-16])\n",
    "plt.show()"
   ]
  },
  {
   "cell_type": "code",
   "execution_count": null,
   "metadata": {},
   "outputs": [],
   "source": [
    "motion_vectors = motion_field.calc_optical_flow(frames[-16], frames[-15], (12, 16))\n",
    "lengths = motion_field.calc_lengths(motion_vectors)"
   ]
  },
  {
   "cell_type": "code",
   "execution_count": null,
   "metadata": {},
   "outputs": [],
   "source": [
    "from matplotlib import pyplot as plt\n",
    "\n",
    "plt.figure()\n",
    "plt.imshow(lengths)\n",
    "plt.show()"
   ]
  },
  {
   "cell_type": "code",
   "execution_count": null,
   "metadata": {},
   "outputs": [],
   "source": [
    "heat_map = HeatMap(lengths)"
   ]
  },
  {
   "cell_type": "code",
   "execution_count": null,
   "metadata": {},
   "outputs": [],
   "source": [
    "heat_map._blobs[0].center"
   ]
  },
  {
   "cell_type": "code",
   "execution_count": null,
   "metadata": {},
   "outputs": [],
   "source": [
    "heat_map._blobs[0].size"
   ]
  },
  {
   "cell_type": "markdown",
   "metadata": {},
   "source": [
    "## Show the blob counts"
   ]
  },
  {
   "cell_type": "code",
   "execution_count": null,
   "metadata": {},
   "outputs": [],
   "source": [
    "video_path = 'sample_videos/circle_test.mp4'\n",
    "\n",
    "blob_counts = []\n",
    "frames = FrameBuffer()\n",
    "with Video(video_path) as video:\n",
    "    while True:\n",
    "        frame = video.get_next_frame()\n",
    "        if frame is None:\n",
    "            break\n",
    "        frames.push_frame(frame)\n",
    "        motion_vectors = motion_field.calc_optical_flow(frames[-1], frames[0], (12, 16))\n",
    "        lengths = motion_field.calc_lengths(motion_vectors)\n",
    "        heat_map = HeatMap(lengths)\n",
    "        blob_counts.append(len(heat_map.blobs))\n",
    "        \n",
    "print(blob_counts)"
   ]
  },
  {
   "cell_type": "code",
   "execution_count": null,
   "metadata": {},
   "outputs": [],
   "source": [
    "from matplotlib import pyplot as plt\n",
    "\n",
    "plt.figure(figsize=(16, 2))\n",
    "# plt.stem(blob_counts, use_line_collection=True)\n",
    "plt.plot(blob_counts)\n",
    "plt.show()"
   ]
  }
 ],
 "metadata": {
  "kernelspec": {
   "display_name": "Python 3",
   "language": "python",
   "name": "python3"
  },
  "language_info": {
   "codemirror_mode": {
    "name": "ipython",
    "version": 3
   },
   "file_extension": ".py",
   "mimetype": "text/x-python",
   "name": "python",
   "nbconvert_exporter": "python",
   "pygments_lexer": "ipython3",
   "version": "3.6.9"
  }
 },
 "nbformat": 4,
 "nbformat_minor": 2
}
